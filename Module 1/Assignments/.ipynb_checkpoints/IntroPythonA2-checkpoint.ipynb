{
 "cells": [
  {
   "cell_type": "code",
   "execution_count": 1,
   "id": "eb2f8fce",
   "metadata": {},
   "outputs": [],
   "source": [
    "Q1 = 'Data Science for all!'"
   ]
  },
  {
   "cell_type": "code",
   "execution_count": 2,
   "id": "8c96db02",
   "metadata": {},
   "outputs": [],
   "source": [
    "def Q2():\n",
    "    for i in Q1:\n",
    "        print(i)\n",
    "    "
   ]
  },
  {
   "cell_type": "code",
   "execution_count": 3,
   "id": "cf00baca",
   "metadata": {},
   "outputs": [],
   "source": [
    "def Q3():\n",
    "    for i in Q1:\n",
    "        print('A')"
   ]
  },
  {
   "cell_type": "code",
   "execution_count": 4,
   "id": "b5144a99",
   "metadata": {},
   "outputs": [],
   "source": [
    "Q4 = ['DTSC 520', 'DTSC 550', 'DTSC 575', 'DTSC 600', 'DTSC 650']"
   ]
  },
  {
   "cell_type": "code",
   "execution_count": 5,
   "id": "66e73f37",
   "metadata": {},
   "outputs": [],
   "source": [
    "def Q5():\n",
    "    for i in Q4:\n",
    "        print(i)"
   ]
  },
  {
   "cell_type": "code",
   "execution_count": 6,
   "id": "37ccd8a1",
   "metadata": {},
   "outputs": [],
   "source": [
    "def Q6():\n",
    "    x = 2\n",
    "    while x < 50:\n",
    "        print(x)\n",
    "        x *= 2"
   ]
  },
  {
   "cell_type": "code",
   "execution_count": 7,
   "id": "bfde8880",
   "metadata": {},
   "outputs": [],
   "source": [
    "Q7 = [2, 3, 5, 7, 11, 13, 17, 19, 23, 29]"
   ]
  },
  {
   "cell_type": "code",
   "execution_count": 8,
   "id": "1017f6c6",
   "metadata": {},
   "outputs": [],
   "source": [
    "def Q8():\n",
    "    sum = 0\n",
    "    for i in Q7:\n",
    "        sum += i\n",
    "    return sum"
   ]
  },
  {
   "cell_type": "code",
   "execution_count": 9,
   "id": "64265981",
   "metadata": {},
   "outputs": [],
   "source": [
    "def Q9():\n",
    "    sum = 0\n",
    "    num = 3\n",
    "    while len(str(num)) < 20:\n",
    "        sum += 1\n",
    "        num = num ** 2\n",
    "    return sum"
   ]
  }
 ],
 "metadata": {
  "kernelspec": {
   "display_name": "Python 3 (ipykernel)",
   "language": "python",
   "name": "python3"
  },
  "language_info": {
   "codemirror_mode": {
    "name": "ipython",
    "version": 3
   },
   "file_extension": ".py",
   "mimetype": "text/x-python",
   "name": "python",
   "nbconvert_exporter": "python",
   "pygments_lexer": "ipython3",
   "version": "3.9.12"
  }
 },
 "nbformat": 4,
 "nbformat_minor": 5
}
