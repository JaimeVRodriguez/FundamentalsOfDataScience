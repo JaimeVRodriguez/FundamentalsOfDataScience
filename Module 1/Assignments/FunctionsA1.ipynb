{
 "cells": [
  {
   "cell_type": "code",
   "execution_count": 1,
   "id": "5565dfb3",
   "metadata": {},
   "outputs": [],
   "source": [
    "def Q1():\n",
    "    print('Hello World')"
   ]
  },
  {
   "cell_type": "code",
   "execution_count": 2,
   "id": "f1e4ab52",
   "metadata": {},
   "outputs": [],
   "source": [
    "def Q2():\n",
    "    print('Eastern University')"
   ]
  },
  {
   "cell_type": "code",
   "execution_count": 3,
   "id": "0032e89e",
   "metadata": {},
   "outputs": [],
   "source": [
    "def Q3(x):\n",
    "    print(x)"
   ]
  },
  {
   "cell_type": "code",
   "execution_count": 4,
   "id": "fcdd748f",
   "metadata": {},
   "outputs": [],
   "source": [
    "def Q4(x):\n",
    "    print(x ** 2)"
   ]
  },
  {
   "cell_type": "code",
   "execution_count": 5,
   "id": "9ce60185",
   "metadata": {},
   "outputs": [],
   "source": [
    "def Q5(x):\n",
    "    print(x ** 3)"
   ]
  },
  {
   "cell_type": "code",
   "execution_count": 6,
   "id": "1f013e39",
   "metadata": {},
   "outputs": [],
   "source": [
    "def Q6(x):\n",
    "    print('The argument is',x)"
   ]
  },
  {
   "cell_type": "code",
   "execution_count": 7,
   "id": "e3866d6a",
   "metadata": {},
   "outputs": [],
   "source": [
    "def Q7(x,y):\n",
    "    print(x - y)"
   ]
  },
  {
   "cell_type": "code",
   "execution_count": 8,
   "id": "2b3eb5b8",
   "metadata": {},
   "outputs": [],
   "source": [
    "def Q8(a,b,c,d,e):\n",
    "    print(a * b * c * d * e)"
   ]
  },
  {
   "cell_type": "code",
   "execution_count": 9,
   "id": "3c4274f9",
   "metadata": {},
   "outputs": [],
   "source": [
    "def Q9(x):\n",
    "    for i in range(x):\n",
    "        print(i)"
   ]
  }
 ],
 "metadata": {
  "kernelspec": {
   "display_name": "Python 3 (ipykernel)",
   "language": "python",
   "name": "python3"
  },
  "language_info": {
   "codemirror_mode": {
    "name": "ipython",
    "version": 3
   },
   "file_extension": ".py",
   "mimetype": "text/x-python",
   "name": "python",
   "nbconvert_exporter": "python",
   "pygments_lexer": "ipython3",
   "version": "3.9.12"
  }
 },
 "nbformat": 4,
 "nbformat_minor": 5
}
