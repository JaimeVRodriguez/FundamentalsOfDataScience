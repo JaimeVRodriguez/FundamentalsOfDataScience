{
 "cells": [
  {
   "cell_type": "code",
   "execution_count": 1,
   "id": "a4f53c3e",
   "metadata": {},
   "outputs": [],
   "source": [
    "Q1 = ['one', 1, 1.0]"
   ]
  },
  {
   "cell_type": "code",
   "execution_count": 2,
   "id": "99552950",
   "metadata": {},
   "outputs": [],
   "source": [
    "q2 = ['two', 2, 2.0]"
   ]
  },
  {
   "cell_type": "code",
   "execution_count": 3,
   "id": "4d7e9e19",
   "metadata": {},
   "outputs": [],
   "source": [
    "q2[1] = 'dos'\n",
    "Q2 = q2"
   ]
  },
  {
   "cell_type": "code",
   "execution_count": 4,
   "id": "72a702ef",
   "metadata": {},
   "outputs": [],
   "source": [
    "q3 = ['three', 3, 3.0]"
   ]
  },
  {
   "cell_type": "code",
   "execution_count": 5,
   "id": "8e6b68ef",
   "metadata": {},
   "outputs": [],
   "source": [
    "q3.append('tres')\n",
    "Q3 = q3"
   ]
  },
  {
   "cell_type": "code",
   "execution_count": 6,
   "id": "0ebfeb6f",
   "metadata": {},
   "outputs": [],
   "source": [
    "q4a = ['four', 4, 4.0]"
   ]
  },
  {
   "cell_type": "code",
   "execution_count": 7,
   "id": "89082e51",
   "metadata": {},
   "outputs": [],
   "source": [
    "q4b = ['eight', 8, 8.0, 'ocho']"
   ]
  },
  {
   "cell_type": "code",
   "execution_count": 8,
   "id": "3c5f3c40",
   "metadata": {},
   "outputs": [],
   "source": [
    "q4a.extend(q4b)\n",
    "Q4 = q4a"
   ]
  },
  {
   "cell_type": "code",
   "execution_count": 9,
   "id": "2b6aad6e",
   "metadata": {},
   "outputs": [],
   "source": [
    "q5a = ['five', 5]"
   ]
  },
  {
   "cell_type": "code",
   "execution_count": 10,
   "id": "127f020e",
   "metadata": {},
   "outputs": [],
   "source": [
    "q5b = ['nine', 9, 9.0, 'nueve']"
   ]
  },
  {
   "cell_type": "code",
   "execution_count": 11,
   "id": "29f658d4",
   "metadata": {},
   "outputs": [],
   "source": [
    "q5a.append(q5b)\n",
    "Q5 = q5a"
   ]
  },
  {
   "cell_type": "code",
   "execution_count": 12,
   "id": "0baa0915",
   "metadata": {},
   "outputs": [],
   "source": [
    "Q6 = len(q5b)"
   ]
  },
  {
   "cell_type": "code",
   "execution_count": 13,
   "id": "b811ad6c",
   "metadata": {},
   "outputs": [],
   "source": [
    "Q7 = q5b * 3"
   ]
  },
  {
   "cell_type": "code",
   "execution_count": 14,
   "id": "db92702c",
   "metadata": {},
   "outputs": [],
   "source": [
    "Q8 = Q5[-1]"
   ]
  }
 ],
 "metadata": {
  "kernelspec": {
   "display_name": "Python 3 (ipykernel)",
   "language": "python",
   "name": "python3"
  },
  "language_info": {
   "codemirror_mode": {
    "name": "ipython",
    "version": 3
   },
   "file_extension": ".py",
   "mimetype": "text/x-python",
   "name": "python",
   "nbconvert_exporter": "python",
   "pygments_lexer": "ipython3",
   "version": "3.9.12"
  }
 },
 "nbformat": 4,
 "nbformat_minor": 5
}
