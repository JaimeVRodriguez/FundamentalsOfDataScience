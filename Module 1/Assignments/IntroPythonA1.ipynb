{
 "cells": [
  {
   "cell_type": "code",
   "execution_count": 1,
   "id": "9733666b",
   "metadata": {},
   "outputs": [],
   "source": [
    "Q1 = 'Welcome to EU!'"
   ]
  },
  {
   "cell_type": "code",
   "execution_count": 2,
   "id": "00eee02b",
   "metadata": {},
   "outputs": [],
   "source": [
    "Q2 = Q1[-3:]"
   ]
  },
  {
   "cell_type": "code",
   "execution_count": 3,
   "id": "4fc6d8cc",
   "metadata": {},
   "outputs": [],
   "source": [
    "Q3 = Q1[5:11]"
   ]
  },
  {
   "cell_type": "code",
   "execution_count": 4,
   "id": "38a9b21d",
   "metadata": {},
   "outputs": [],
   "source": [
    "Q4 = ['Eric Camacho', 'Elmer Felicitas', 'Shankar Lucrece', 'Gitta Nevena', 'Rasmus Tarquinius']"
   ]
  },
  {
   "cell_type": "code",
   "execution_count": 5,
   "id": "4869a00b",
   "metadata": {},
   "outputs": [],
   "source": [
    "Q5 = [7, '7', 'Seven', 7.0]"
   ]
  },
  {
   "cell_type": "code",
   "execution_count": 6,
   "id": "29df118c",
   "metadata": {},
   "outputs": [],
   "source": [
    "Q6 = Q4[-2:]"
   ]
  },
  {
   "cell_type": "code",
   "execution_count": 7,
   "id": "2922b9d4",
   "metadata": {},
   "outputs": [],
   "source": [
    "Q7 = Q5[1:3]"
   ]
  },
  {
   "cell_type": "code",
   "execution_count": 8,
   "id": "2168351e",
   "metadata": {},
   "outputs": [],
   "source": [
    "mylist = [4, 8, 11, 3, 19, 2, 5, 8, 12, 9]"
   ]
  },
  {
   "cell_type": "code",
   "execution_count": 9,
   "id": "48edd35f",
   "metadata": {},
   "outputs": [],
   "source": [
    "Q8 = mylist[:3]"
   ]
  },
  {
   "cell_type": "code",
   "execution_count": 10,
   "id": "bf2b1501",
   "metadata": {},
   "outputs": [],
   "source": [
    "Q9 = mylist[-3:]"
   ]
  },
  {
   "cell_type": "code",
   "execution_count": 11,
   "id": "0bf0f86d",
   "metadata": {},
   "outputs": [],
   "source": [
    "Q10 = mylist[2:6]"
   ]
  },
  {
   "cell_type": "code",
   "execution_count": 12,
   "id": "ec92ad99",
   "metadata": {},
   "outputs": [],
   "source": [
    "Q11 = mylist[5:7]"
   ]
  }
 ],
 "metadata": {
  "kernelspec": {
   "display_name": "Python 3 (ipykernel)",
   "language": "python",
   "name": "python3"
  },
  "language_info": {
   "codemirror_mode": {
    "name": "ipython",
    "version": 3
   },
   "file_extension": ".py",
   "mimetype": "text/x-python",
   "name": "python",
   "nbconvert_exporter": "python",
   "pygments_lexer": "ipython3",
   "version": "3.9.12"
  }
 },
 "nbformat": 4,
 "nbformat_minor": 5
}
