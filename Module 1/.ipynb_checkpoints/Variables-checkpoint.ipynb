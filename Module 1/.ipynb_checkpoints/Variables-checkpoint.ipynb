{
 "cells": [
  {
   "cell_type": "markdown",
   "id": "250a80e5",
   "metadata": {},
   "source": [
    "# Variables & data types"
   ]
  },
  {
   "cell_type": "code",
   "execution_count": 1,
   "id": "feb3493d",
   "metadata": {},
   "outputs": [],
   "source": [
    "a = 2\n",
    "b = 5.0\n",
    "x = 'hello world'"
   ]
  },
  {
   "cell_type": "code",
   "execution_count": 3,
   "id": "2c99320b",
   "metadata": {},
   "outputs": [
    {
     "name": "stdout",
     "output_type": "stream",
     "text": [
      "2\n",
      "5.0\n",
      "hello world\n",
      "2 5.0 hello world\n",
      "a * 2 + b =  9.0\n"
     ]
    }
   ],
   "source": [
    "print(a)\n",
    "print(b)\n",
    "print(x)\n",
    "print(a, b, x)\n",
    "print(\"a * 2 + b = \", a*2+b)"
   ]
  },
  {
   "cell_type": "code",
   "execution_count": 6,
   "id": "e3c9221f",
   "metadata": {},
   "outputs": [
    {
     "name": "stdout",
     "output_type": "stream",
     "text": [
      "<class 'int'>\n",
      "<class 'float'>\n"
     ]
    },
    {
     "ename": "NameError",
     "evalue": "name 'c' is not defined",
     "output_type": "error",
     "traceback": [
      "\u001b[0;31m---------------------------------------------------------------------------\u001b[0m",
      "\u001b[0;31mNameError\u001b[0m                                 Traceback (most recent call last)",
      "Input \u001b[0;32mIn [6]\u001b[0m, in \u001b[0;36m<cell line: 3>\u001b[0;34m()\u001b[0m\n\u001b[1;32m      1\u001b[0m \u001b[38;5;28mprint\u001b[39m(\u001b[38;5;28mtype\u001b[39m(a))\n\u001b[1;32m      2\u001b[0m \u001b[38;5;28mprint\u001b[39m(\u001b[38;5;28mtype\u001b[39m(b))\n\u001b[0;32m----> 3\u001b[0m \u001b[38;5;28mprint\u001b[39m(\u001b[38;5;28mtype\u001b[39m(\u001b[43mc\u001b[49m))\n",
      "\u001b[0;31mNameError\u001b[0m: name 'c' is not defined"
     ]
    }
   ],
   "source": [
    "print(type(a))\n",
    "print(type(b))\n",
    "print(type(x))"
   ]
  },
  {
   "cell_type": "markdown",
   "id": "35accb66",
   "metadata": {},
   "source": [
    "## Some specifics"
   ]
  },
  {
   "cell_type": "markdown",
   "id": "e42101fe",
   "metadata": {},
   "source": []
  },
  {
   "cell_type": "markdown",
   "id": "0a927429",
   "metadata": {},
   "source": []
  }
 ],
 "metadata": {
  "kernelspec": {
   "display_name": "Python 3 (ipykernel)",
   "language": "python",
   "name": "python3"
  },
  "language_info": {
   "codemirror_mode": {
    "name": "ipython",
    "version": 3
   },
   "file_extension": ".py",
   "mimetype": "text/x-python",
   "name": "python",
   "nbconvert_exporter": "python",
   "pygments_lexer": "ipython3",
   "version": "3.9.12"
  }
 },
 "nbformat": 4,
 "nbformat_minor": 5
}
