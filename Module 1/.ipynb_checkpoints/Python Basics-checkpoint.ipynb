{
 "cells": [
  {
   "cell_type": "markdown",
   "id": "0e9f75b4",
   "metadata": {},
   "source": [
    "### In these videos:\n",
    "\n",
    "    1. Variables\n",
    "    2. Numbers\n",
    "    3. Strings\n",
    "    4. Comments\n",
    "    5. Indentation"
   ]
  },
  {
   "cell_type": "code",
   "execution_count": 4,
   "id": "9a03cf97",
   "metadata": {},
   "outputs": [],
   "source": [
    "def dogyears():\n",
    "    age = float(input(\"What is your age? \"))\n",
    "    # dog years = human years * 7\n",
    "    dy = age * 7\n",
    "    print(\"Your age is \", dy, \" dog years\")"
   ]
  },
  {
   "cell_type": "code",
   "execution_count": 5,
   "id": "e298f5a3",
   "metadata": {},
   "outputs": [
    {
     "name": "stdout",
     "output_type": "stream",
     "text": [
      "What is your age? 3\n",
      "Your age is  21.0  dog years\n"
     ]
    }
   ],
   "source": [
    "dogyears()"
   ]
  },
  {
   "cell_type": "code",
   "execution_count": 1,
   "id": "00c79265",
   "metadata": {},
   "outputs": [],
   "source": [
    "def exponent():\n",
    "    for i in range(10):\n",
    "        print(i**(i+1))"
   ]
  },
  {
   "cell_type": "code",
   "execution_count": 2,
   "id": "2b5cae31",
   "metadata": {},
   "outputs": [
    {
     "name": "stdout",
     "output_type": "stream",
     "text": [
      "0\n",
      "1\n",
      "8\n",
      "81\n",
      "1024\n",
      "15625\n",
      "279936\n",
      "5764801\n",
      "134217728\n",
      "3486784401\n"
     ]
    }
   ],
   "source": [
    "exponent()"
   ]
  },
  {
   "cell_type": "code",
   "execution_count": null,
   "id": "c1eef0e1",
   "metadata": {},
   "outputs": [],
   "source": []
  }
 ],
 "metadata": {
  "kernelspec": {
   "display_name": "Python 3 (ipykernel)",
   "language": "python",
   "name": "python3"
  },
  "language_info": {
   "codemirror_mode": {
    "name": "ipython",
    "version": 3
   },
   "file_extension": ".py",
   "mimetype": "text/x-python",
   "name": "python",
   "nbconvert_exporter": "python",
   "pygments_lexer": "ipython3",
   "version": "3.9.12"
  }
 },
 "nbformat": 4,
 "nbformat_minor": 5
}
