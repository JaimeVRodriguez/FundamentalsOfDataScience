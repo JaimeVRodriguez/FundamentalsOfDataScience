{
 "cells": [
  {
   "cell_type": "markdown",
   "id": "fd136463",
   "metadata": {},
   "source": [
    "# Variables & data types"
   ]
  },
  {
   "cell_type": "code",
   "execution_count": 1,
   "id": "d026879e",
   "metadata": {},
   "outputs": [],
   "source": [
    "a = 2\n",
    "b = 5.0\n",
    "x = 'hello world'"
   ]
  },
  {
   "cell_type": "code",
   "execution_count": 2,
   "id": "4b647638",
   "metadata": {},
   "outputs": [
    {
     "name": "stdout",
     "output_type": "stream",
     "text": [
      "2\n",
      "5.0\n",
      "hello world\n",
      "2 5.0 hello world\n",
      "a * 2 + b =  9.0\n"
     ]
    }
   ],
   "source": [
    "print(a)\n",
    "print(b)\n",
    "print(x)\n",
    "print(a, b, x)\n",
    "print(\"a * 2 + b = \", a*2+b)"
   ]
  },
  {
   "cell_type": "code",
   "execution_count": 3,
   "id": "13268ed3",
   "metadata": {},
   "outputs": [
    {
     "name": "stdout",
     "output_type": "stream",
     "text": [
      "<class 'int'>\n",
      "<class 'float'>\n",
      "<class 'str'>\n"
     ]
    }
   ],
   "source": [
    "print(type(a))\n",
    "print(type(b))\n",
    "print(type(x))"
   ]
  },
  {
   "cell_type": "markdown",
   "id": "1fa77ace",
   "metadata": {},
   "source": [
    "## Some specifics"
   ]
  },
  {
   "cell_type": "raw",
   "id": "51dd20b8",
   "metadata": {},
   "source": [
    "Names, or identifiers, must begin with letters underscored\n",
    "\n",
    "Names are case sensitive\n",
    "\n",
    "    x = 1\n",
    "    celsius = 2\n",
    "    cow = 3\n",
    "    Cow = 12\n",
    "    DoG = 4\n",
    "    DOG = 5\n",
    "    dog = 6\n",
    "    \n",
    "\n",
    "Specifying a variable's value is called assignment\n",
    "Assignments can be repeated, but they'll be updated to the latest specification"
   ]
  },
  {
   "cell_type": "code",
   "execution_count": 4,
   "id": "b34dc7a7",
   "metadata": {},
   "outputs": [],
   "source": [
    "x = 1\n",
    "x = 2"
   ]
  },
  {
   "cell_type": "markdown",
   "id": "1e0d7fc7",
   "metadata": {},
   "source": [
    "If you don't get an error, things worked\n",
    "\n",
    "However, you don't see your variable value unless you ask for it"
   ]
  },
  {
   "cell_type": "code",
   "execution_count": 5,
   "id": "554b9524",
   "metadata": {},
   "outputs": [
    {
     "data": {
      "text/plain": [
       "2"
      ]
     },
     "execution_count": 5,
     "metadata": {},
     "output_type": "execute_result"
    }
   ],
   "source": [
    "x"
   ]
  },
  {
   "cell_type": "markdown",
   "id": "9347db1b",
   "metadata": {},
   "source": [
    "We can then use this variable as a substitute for the value"
   ]
  },
  {
   "cell_type": "code",
   "execution_count": 6,
   "id": "c71b9e79",
   "metadata": {},
   "outputs": [
    {
     "data": {
      "text/plain": [
       "10"
      ]
     },
     "execution_count": 6,
     "metadata": {},
     "output_type": "execute_result"
    }
   ],
   "source": [
    "x * 5"
   ]
  },
  {
   "cell_type": "markdown",
   "id": "c793aaa8",
   "metadata": {},
   "source": [
    "And we can also assign new variable from old"
   ]
  },
  {
   "cell_type": "code",
   "execution_count": 7,
   "id": "34ae3cd2",
   "metadata": {},
   "outputs": [
    {
     "data": {
      "text/plain": [
       "8"
      ]
     },
     "execution_count": 7,
     "metadata": {},
     "output_type": "execute_result"
    }
   ],
   "source": [
    "y = x ** 3\n",
    "y"
   ]
  },
  {
   "cell_type": "markdown",
   "id": "7e2dfa39",
   "metadata": {},
   "source": [
    "There are a small number of reserved words that can't be used"
   ]
  },
  {
   "cell_type": "code",
   "execution_count": 8,
   "id": "9fa1b1fe",
   "metadata": {},
   "outputs": [
    {
     "ename": "SyntaxError",
     "evalue": "cannot assign to False (87711723.py, line 1)",
     "output_type": "error",
     "traceback": [
      "\u001b[0;36m  Input \u001b[0;32mIn [8]\u001b[0;36m\u001b[0m\n\u001b[0;31m    False = 6\u001b[0m\n\u001b[0m    ^\u001b[0m\n\u001b[0;31mSyntaxError\u001b[0m\u001b[0;31m:\u001b[0m cannot assign to False\n"
     ]
    }
   ],
   "source": [
    "False = 6"
   ]
  },
  {
   "cell_type": "code",
   "execution_count": 9,
   "id": "2a9154e7",
   "metadata": {},
   "outputs": [
    {
     "ename": "SyntaxError",
     "evalue": "invalid syntax (1267085572.py, line 1)",
     "output_type": "error",
     "traceback": [
      "\u001b[0;36m  Input \u001b[0;32mIn [9]\u001b[0;36m\u001b[0m\n\u001b[0;31m    try = 7\u001b[0m\n\u001b[0m        ^\u001b[0m\n\u001b[0;31mSyntaxError\u001b[0m\u001b[0;31m:\u001b[0m invalid syntax\n"
     ]
    }
   ],
   "source": [
    "try = 7"
   ]
  },
  {
   "cell_type": "markdown",
   "id": "3759a38b",
   "metadata": {},
   "source": [
    "In Jupyter, these are green in Colab, ble"
   ]
  }
 ],
 "metadata": {
  "kernelspec": {
   "display_name": "Python 3 (ipykernel)",
   "language": "python",
   "name": "python3"
  },
  "language_info": {
   "codemirror_mode": {
    "name": "ipython",
    "version": 3
   },
   "file_extension": ".py",
   "mimetype": "text/x-python",
   "name": "python",
   "nbconvert_exporter": "python",
   "pygments_lexer": "ipython3",
   "version": "3.9.12"
  }
 },
 "nbformat": 4,
 "nbformat_minor": 5
}
