{
 "cells": [
  {
   "cell_type": "code",
   "execution_count": 1,
   "id": "93b9da14",
   "metadata": {},
   "outputs": [],
   "source": [
    "import numpy as np"
   ]
  },
  {
   "cell_type": "code",
   "execution_count": 4,
   "id": "9f3ee2f7",
   "metadata": {},
   "outputs": [
    {
     "data": {
      "text/plain": [
       "array([10, 73, 99, 84, 79, 80, 62, 25,  1, 75, 77, 57, 26, 33, 68, 33,  8,\n",
       "        2, 76, 84])"
      ]
     },
     "execution_count": 4,
     "metadata": {},
     "output_type": "execute_result"
    }
   ],
   "source": [
    "rand = np.random.RandomState(6)\n",
    "j = rand.randint(100, size = 20)\n",
    "j"
   ]
  },
  {
   "cell_type": "code",
   "execution_count": 6,
   "id": "8510f452",
   "metadata": {},
   "outputs": [
    {
     "data": {
      "text/plain": [
       "array([84, 57])"
      ]
     },
     "execution_count": 6,
     "metadata": {},
     "output_type": "execute_result"
    }
   ],
   "source": [
    "a = [3, 11]\n",
    "j[a]"
   ]
  },
  {
   "cell_type": "code",
   "execution_count": 7,
   "id": "eb512ae8",
   "metadata": {},
   "outputs": [
    {
     "data": {
      "text/plain": [
       "[99, 8, 1]"
      ]
     },
     "execution_count": 7,
     "metadata": {},
     "output_type": "execute_result"
    }
   ],
   "source": [
    "[j[2], j[-4], j[8]]"
   ]
  },
  {
   "cell_type": "code",
   "execution_count": 8,
   "id": "182fc3c8",
   "metadata": {},
   "outputs": [
    {
     "data": {
      "text/plain": [
       "array([[75, 99],\n",
       "       [76, 25]])"
      ]
     },
     "execution_count": 8,
     "metadata": {},
     "output_type": "execute_result"
    }
   ],
   "source": [
    "b = np.array([[9,2],[-2,7]])\n",
    "j[b]"
   ]
  },
  {
   "cell_type": "code",
   "execution_count": null,
   "id": "0312a964",
   "metadata": {},
   "outputs": [],
   "source": []
  }
 ],
 "metadata": {
  "kernelspec": {
   "display_name": "Python 3 (ipykernel)",
   "language": "python",
   "name": "python3"
  },
  "language_info": {
   "codemirror_mode": {
    "name": "ipython",
    "version": 3
   },
   "file_extension": ".py",
   "mimetype": "text/x-python",
   "name": "python",
   "nbconvert_exporter": "python",
   "pygments_lexer": "ipython3",
   "version": "3.9.12"
  }
 },
 "nbformat": 4,
 "nbformat_minor": 5
}
