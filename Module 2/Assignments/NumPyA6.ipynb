{
 "cells": [
  {
   "cell_type": "code",
   "execution_count": 330,
   "metadata": {},
   "outputs": [],
   "source": [
    "import numpy as np"
   ]
  },
  {
   "cell_type": "code",
   "execution_count": 331,
   "metadata": {},
   "outputs": [
    {
     "data": {
      "text/plain": [
       "array([0.54340494, 0.27836939, 0.42451759, 0.84477613, 0.00471886,\n",
       "       0.12156912, 0.67074908, 0.82585276, 0.13670659, 0.57509333,\n",
       "       0.89132195, 0.20920212, 0.18532822, 0.10837689, 0.21969749,\n",
       "       0.97862378, 0.81168315, 0.17194101, 0.81622475, 0.27407375])"
      ]
     },
     "execution_count": 331,
     "metadata": {},
     "output_type": "execute_result"
    }
   ],
   "source": [
    "np.random.seed(100)\n",
    "con = np.random.random(size=20)\n",
    "con"
   ]
  },
  {
   "cell_type": "code",
   "execution_count": 332,
   "metadata": {},
   "outputs": [],
   "source": [
    "Q1 = np.sum(con)"
   ]
  },
  {
   "cell_type": "code",
   "execution_count": 333,
   "metadata": {},
   "outputs": [],
   "source": [
    "Q2 = np.max(con)"
   ]
  },
  {
   "cell_type": "code",
   "execution_count": 334,
   "metadata": {},
   "outputs": [
    {
     "data": {
      "text/plain": [
       "array([[0.43170418, 0.94002982, 0.81764938, 0.33611195, 0.17541045],\n",
       "       [0.37283205, 0.00568851, 0.25242635, 0.79566251, 0.01525497],\n",
       "       [0.59884338, 0.60380454, 0.10514769, 0.38194344, 0.03647606],\n",
       "       [0.89041156, 0.98092086, 0.05994199, 0.89054594, 0.5769015 ]])"
      ]
     },
     "execution_count": 334,
     "metadata": {},
     "output_type": "execute_result"
    }
   ],
   "source": [
    "con2 = np.random.random(size=(4,5))\n",
    "con2"
   ]
  },
  {
   "cell_type": "code",
   "execution_count": 335,
   "metadata": {},
   "outputs": [],
   "source": [
    "Q3 = con2.min(1)"
   ]
  },
  {
   "cell_type": "code",
   "execution_count": 336,
   "metadata": {},
   "outputs": [],
   "source": [
    "Q4 = np.mean(con2)"
   ]
  },
  {
   "cell_type": "code",
   "execution_count": 337,
   "metadata": {},
   "outputs": [],
   "source": [
    "q5 = np.array([2, 3, np.nan, 5])\n",
    "Q5 = np.nansum(q5)"
   ]
  },
  {
   "cell_type": "code",
   "execution_count": 338,
   "metadata": {},
   "outputs": [],
   "source": [
    "q6a = np.random.random(size=4)\n",
    "q6b = np.random.random(size=4)\n",
    "Q6 = np.concatenate([q6a,q6b])"
   ]
  },
  {
   "cell_type": "code",
   "execution_count": 339,
   "metadata": {},
   "outputs": [],
   "source": [
    "q7 = np.random.random(size=(4,4))\n",
    "Q7 = np.concatenate([q7,q7])"
   ]
  },
  {
   "cell_type": "code",
   "execution_count": 340,
   "metadata": {},
   "outputs": [],
   "source": [
    "q8 = np.random.random(size=(2,4))\n",
    "Q8 = np.vstack((q7,q8))"
   ]
  },
  {
   "cell_type": "code",
   "execution_count": 341,
   "metadata": {},
   "outputs": [],
   "source": [
    "q9a = np.vstack((q7,q7))\n",
    "q9b = np.vstack((q9a,q7))\n",
    "q9c = np.vstack((q9b,q8))\n",
    "Q9 = np.vstack((q9c,q8))"
   ]
  },
  {
   "cell_type": "code",
   "execution_count": 342,
   "metadata": {},
   "outputs": [],
   "source": [
    "q10 = np.random.random(size=(2,1))\n",
    "Q10 = np.hstack((q8,q10))"
   ]
  },
  {
   "cell_type": "code",
   "execution_count": 343,
   "metadata": {},
   "outputs": [],
   "source": [
    "q11 = np.random.random(size=20)\n",
    "Q11a, Q11b = np.split(q11, [5])"
   ]
  },
  {
   "cell_type": "code",
   "execution_count": 344,
   "metadata": {},
   "outputs": [],
   "source": [
    "Q12a, Q12b, Q12c = np.split(q11, [10,15])"
   ]
  },
  {
   "cell_type": "code",
   "execution_count": 345,
   "metadata": {},
   "outputs": [
    {
     "data": {
      "text/plain": [
       "array([[0.45697913, 0.65894007, 0.25425752, 0.64110126, 0.20012361],\n",
       "       [0.65762481, 0.77828922, 0.7795984 , 0.61032815, 0.30900035],\n",
       "       [0.69773491, 0.8596183 , 0.62532376, 0.98240783, 0.97650013],\n",
       "       [0.16669413, 0.02317814, 0.16074455, 0.92349683, 0.95354985],\n",
       "       [0.21097842, 0.36052525, 0.54937526, 0.27183085, 0.46060162]])"
      ]
     },
     "execution_count": 345,
     "metadata": {},
     "output_type": "execute_result"
    }
   ],
   "source": [
    "q13 = np.random.random(size=(5,5))\n",
    "q13\n"
   ]
  },
  {
   "cell_type": "code",
   "execution_count": 346,
   "metadata": {},
   "outputs": [],
   "source": [
    "Q13a, Q13b = np.split(q13, [3])"
   ]
  },
  {
   "cell_type": "code",
   "execution_count": 348,
   "metadata": {},
   "outputs": [],
   "source": [
    "Q14a, Q14b = np.hsplit(q13, [3])"
   ]
  },
  {
   "cell_type": "code",
   "execution_count": null,
   "metadata": {},
   "outputs": [],
   "source": []
  }
 ],
 "metadata": {
  "kernelspec": {
   "display_name": "Python 3.9.12 ('base')",
   "language": "python",
   "name": "python3"
  },
  "language_info": {
   "codemirror_mode": {
    "name": "ipython",
    "version": 3
   },
   "file_extension": ".py",
   "mimetype": "text/x-python",
   "name": "python",
   "nbconvert_exporter": "python",
   "pygments_lexer": "ipython3",
   "version": "3.9.12"
  },
  "orig_nbformat": 4,
  "vscode": {
   "interpreter": {
    "hash": "ba44645dc5d2234ff52f5ccad207463005e30c5273b58be6b66674f631fb4776"
   }
  }
 },
 "nbformat": 4,
 "nbformat_minor": 2
}
