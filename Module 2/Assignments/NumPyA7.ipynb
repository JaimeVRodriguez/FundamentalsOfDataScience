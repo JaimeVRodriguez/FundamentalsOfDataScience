{
 "cells": [
  {
   "cell_type": "code",
   "execution_count": 66,
   "metadata": {},
   "outputs": [],
   "source": [
    "import numpy as np"
   ]
  },
  {
   "cell_type": "code",
   "execution_count": 67,
   "metadata": {},
   "outputs": [],
   "source": [
    "q1 = np.arange(2,17,2)\n",
    "Q1 = [q1[-2], q1[2], q1[-3]]"
   ]
  },
  {
   "cell_type": "code",
   "execution_count": 68,
   "metadata": {},
   "outputs": [],
   "source": [
    "q2 = np.array([[1, 3, 2],\n",
    "            [0,7,4]])"
   ]
  },
  {
   "cell_type": "code",
   "execution_count": 69,
   "metadata": {},
   "outputs": [],
   "source": [
    "Q2 = q1[q2]"
   ]
  },
  {
   "cell_type": "code",
   "execution_count": 70,
   "metadata": {},
   "outputs": [],
   "source": [
    "Q3 = q1.reshape((4,2))"
   ]
  },
  {
   "cell_type": "code",
   "execution_count": 71,
   "metadata": {},
   "outputs": [],
   "source": [
    "q4 = Q3[0, :]\n",
    "Q4 = np.flipud(q4)"
   ]
  },
  {
   "cell_type": "code",
   "execution_count": 72,
   "metadata": {},
   "outputs": [],
   "source": [
    "q5 = Q3[:2,0]\n",
    "Q5 = q5.reshape(2,1)"
   ]
  },
  {
   "cell_type": "code",
   "execution_count": 73,
   "metadata": {},
   "outputs": [],
   "source": [
    "np.random.seed(6)\n",
    "q6 = np.random.randint(0,10, size=10)\n",
    "Q6 = np.sort(q6)"
   ]
  },
  {
   "cell_type": "code",
   "execution_count": 74,
   "metadata": {},
   "outputs": [],
   "source": [
    "q7 = np.random.randint(0, 10, size=(4,5))\n",
    "Q7 = np.sort(q7, axis=0)\n"
   ]
  },
  {
   "cell_type": "code",
   "execution_count": 75,
   "metadata": {},
   "outputs": [],
   "source": [
    "Q8 = np.sort(q7, axis=1)"
   ]
  },
  {
   "cell_type": "code",
   "execution_count": 76,
   "metadata": {},
   "outputs": [],
   "source": [
    "fruit = ['Grape', 'Apple', 'Banana']\n",
    "color = ['Purple', 'Red', 'Yellow']\n",
    "ranking = [3, 2, 1]\n",
    "\n",
    "q9 = np.zeros(3, dtype={'names':('fruit', 'color', 'ranking'),\n",
    "                        'formats': ('U20', 'U20', 'int16')})\n"
   ]
  },
  {
   "cell_type": "code",
   "execution_count": 77,
   "metadata": {},
   "outputs": [],
   "source": [
    "q9['fruit'] = fruit\n",
    "q9['color'] = color\n",
    "q9['ranking'] = ranking"
   ]
  },
  {
   "cell_type": "code",
   "execution_count": 78,
   "metadata": {},
   "outputs": [],
   "source": [
    "Q9 = q9['color']"
   ]
  },
  {
   "cell_type": "code",
   "execution_count": 79,
   "metadata": {},
   "outputs": [],
   "source": [
    "Q10 = q9[2]"
   ]
  },
  {
   "cell_type": "code",
   "execution_count": 80,
   "metadata": {},
   "outputs": [],
   "source": [
    "Q11 = q9[q9['ranking'] < 3]"
   ]
  },
  {
   "cell_type": "code",
   "execution_count": null,
   "metadata": {},
   "outputs": [],
   "source": []
  }
 ],
 "metadata": {
  "kernelspec": {
   "display_name": "Python 3.9.12 ('base')",
   "language": "python",
   "name": "python3"
  },
  "language_info": {
   "codemirror_mode": {
    "name": "ipython",
    "version": 3
   },
   "file_extension": ".py",
   "mimetype": "text/x-python",
   "name": "python",
   "nbconvert_exporter": "python",
   "pygments_lexer": "ipython3",
   "version": "3.9.12"
  },
  "orig_nbformat": 4,
  "vscode": {
   "interpreter": {
    "hash": "ba44645dc5d2234ff52f5ccad207463005e30c5273b58be6b66674f631fb4776"
   }
  }
 },
 "nbformat": 4,
 "nbformat_minor": 2
}
