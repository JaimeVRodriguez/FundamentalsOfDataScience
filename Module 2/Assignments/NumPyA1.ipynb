{
 "cells": [
  {
   "cell_type": "code",
   "execution_count": 1,
   "id": "77ef4a08",
   "metadata": {},
   "outputs": [],
   "source": [
    "import numpy as np"
   ]
  },
  {
   "cell_type": "code",
   "execution_count": 2,
   "id": "d77c4637",
   "metadata": {},
   "outputs": [],
   "source": [
    "L = [2,8,7,11]\n",
    "Q1 = np.array(L)"
   ]
  },
  {
   "cell_type": "code",
   "execution_count": 3,
   "id": "3291822e",
   "metadata": {},
   "outputs": [],
   "source": [
    "Q2 = np.array([[1,2,3],\n",
    "             [4,5,6],\n",
    "             [7,8,9]])"
   ]
  },
  {
   "cell_type": "code",
   "execution_count": 4,
   "id": "d7cfdea1",
   "metadata": {},
   "outputs": [],
   "source": [
    "Q2_copy = Q2[:, 1]\n",
    "Q3 = Q2_copy.reshape((3,1))"
   ]
  },
  {
   "cell_type": "code",
   "execution_count": 5,
   "id": "4624c10b",
   "metadata": {},
   "outputs": [],
   "source": [
    "np.random.seed(6)\n",
    "Q4 = np.random.randint(10, size = (5,6))"
   ]
  },
  {
   "cell_type": "code",
   "execution_count": 9,
   "id": "10f8697a",
   "metadata": {},
   "outputs": [],
   "source": [
    "Q5 = Q4[:3,1:3]"
   ]
  },
  {
   "cell_type": "code",
   "execution_count": 11,
   "id": "767e6f87",
   "metadata": {},
   "outputs": [],
   "source": [
    "Q6 = Q4[3:,2:5]"
   ]
  },
  {
   "cell_type": "code",
   "execution_count": 13,
   "id": "4d802a9e",
   "metadata": {},
   "outputs": [],
   "source": [
    "Q7 = Q4[2:4,1:3]"
   ]
  },
  {
   "cell_type": "code",
   "execution_count": 17,
   "id": "c8411986",
   "metadata": {},
   "outputs": [],
   "source": [
    "Q8 = Q4[:,2:4]"
   ]
  },
  {
   "cell_type": "code",
   "execution_count": 19,
   "id": "07b0449a",
   "metadata": {},
   "outputs": [],
   "source": [
    "Q9 = Q4[3:,:]"
   ]
  },
  {
   "cell_type": "code",
   "execution_count": null,
   "id": "e12c5b83",
   "metadata": {},
   "outputs": [],
   "source": []
  }
 ],
 "metadata": {
  "kernelspec": {
   "display_name": "Python 3.9.12 ('base')",
   "language": "python",
   "name": "python3"
  },
  "language_info": {
   "codemirror_mode": {
    "name": "ipython",
    "version": 3
   },
   "file_extension": ".py",
   "mimetype": "text/x-python",
   "name": "python",
   "nbconvert_exporter": "python",
   "pygments_lexer": "ipython3",
   "version": "3.9.12"
  },
  "vscode": {
   "interpreter": {
    "hash": "ba44645dc5d2234ff52f5ccad207463005e30c5273b58be6b66674f631fb4776"
   }
  }
 },
 "nbformat": 4,
 "nbformat_minor": 5
}
