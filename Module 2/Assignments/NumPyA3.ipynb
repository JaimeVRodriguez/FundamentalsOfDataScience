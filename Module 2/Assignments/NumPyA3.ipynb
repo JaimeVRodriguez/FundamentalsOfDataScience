{
 "cells": [
  {
   "cell_type": "code",
   "execution_count": 2,
   "id": "87ea8f3d",
   "metadata": {},
   "outputs": [],
   "source": [
    "import numpy as np"
   ]
  },
  {
   "cell_type": "code",
   "execution_count": 3,
   "id": "f20a50f9",
   "metadata": {},
   "outputs": [],
   "source": [
    "np.random.seed(77)"
   ]
  },
  {
   "cell_type": "code",
   "execution_count": 4,
   "id": "4f6316ff",
   "metadata": {},
   "outputs": [],
   "source": [
    "Q1 = np.random.randint(51, size = (8,6))"
   ]
  },
  {
   "cell_type": "code",
   "execution_count": 5,
   "id": "6a78aee5",
   "metadata": {},
   "outputs": [],
   "source": [
    "Q2 = Q1[2:7,-2:]"
   ]
  },
  {
   "cell_type": "code",
   "execution_count": 6,
   "id": "d0f74f0c",
   "metadata": {},
   "outputs": [],
   "source": [
    "Q3 = Q1[2:,3:5]"
   ]
  },
  {
   "cell_type": "code",
   "execution_count": 7,
   "id": "4627cbbc",
   "metadata": {},
   "outputs": [],
   "source": [
    "Q4 = Q3.reshape(2, 6)"
   ]
  },
  {
   "cell_type": "code",
   "execution_count": 8,
   "id": "6a488f70",
   "metadata": {},
   "outputs": [],
   "source": [
    "Q5 = Q4.reshape(3,4)"
   ]
  },
  {
   "cell_type": "code",
   "execution_count": 13,
   "id": "972884a3",
   "metadata": {},
   "outputs": [],
   "source": [
    "name = ['Janetta', 'Deb', 'Minato', 'Maurine', 'Niketas']\n",
    "last = ['Lydia', 'Albin', 'Vanja', 'Peter', 'Justine']\n",
    "height = [58, 68, 78, 77, 70]\n",
    "age = [58, 50, 38, 57, 60]\n",
    "\n",
    "Q6 = np.zeros(5, dtype={'names':('name', 'last', 'height', 'age'),\n",
    "                       'formats':('U20', 'U20', 'int16', 'int16')})"
   ]
  },
  {
   "cell_type": "code",
   "execution_count": 14,
   "id": "24fa1e53",
   "metadata": {},
   "outputs": [],
   "source": [
    "Q6['name'] = name\n",
    "Q6['last'] = last\n",
    "Q6['height'] = height\n",
    "Q6['age'] = age"
   ]
  },
  {
   "cell_type": "code",
   "execution_count": null,
   "id": "be661016",
   "metadata": {},
   "outputs": [],
   "source": []
  }
 ],
 "metadata": {
  "kernelspec": {
   "display_name": "Python 3.9.12 ('base')",
   "language": "python",
   "name": "python3"
  },
  "language_info": {
   "codemirror_mode": {
    "name": "ipython",
    "version": 3
   },
   "file_extension": ".py",
   "mimetype": "text/x-python",
   "name": "python",
   "nbconvert_exporter": "python",
   "pygments_lexer": "ipython3",
   "version": "3.9.12"
  },
  "vscode": {
   "interpreter": {
    "hash": "ba44645dc5d2234ff52f5ccad207463005e30c5273b58be6b66674f631fb4776"
   }
  }
 },
 "nbformat": 4,
 "nbformat_minor": 5
}
