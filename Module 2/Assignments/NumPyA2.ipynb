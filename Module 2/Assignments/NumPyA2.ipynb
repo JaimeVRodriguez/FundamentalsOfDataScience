{
 "cells": [
  {
   "cell_type": "code",
   "execution_count": 1,
   "id": "87ea8f3d",
   "metadata": {},
   "outputs": [],
   "source": [
    "import numpy as np"
   ]
  },
  {
   "cell_type": "code",
   "execution_count": 2,
   "id": "f20a50f9",
   "metadata": {},
   "outputs": [],
   "source": [
    "np.random.seed(56)"
   ]
  },
  {
   "cell_type": "code",
   "execution_count": 3,
   "id": "4f6316ff",
   "metadata": {},
   "outputs": [],
   "source": [
    "Q1 = np.random.randint(20, size = (10,10))"
   ]
  },
  {
   "cell_type": "code",
   "execution_count": 4,
   "id": "6a78aee5",
   "metadata": {},
   "outputs": [],
   "source": [
    "Q2 = Q1[2:5,3:8]"
   ]
  },
  {
   "cell_type": "code",
   "execution_count": 5,
   "id": "0bbf82e5",
   "metadata": {},
   "outputs": [],
   "source": [
    "Q3 = Q1[7:,4:6]"
   ]
  },
  {
   "cell_type": "code",
   "execution_count": 6,
   "id": "3bb60a08",
   "metadata": {},
   "outputs": [],
   "source": [
    "Q4 = Q3.reshape(2,3)"
   ]
  },
  {
   "cell_type": "code",
   "execution_count": 7,
   "id": "e627aa63",
   "metadata": {},
   "outputs": [],
   "source": [
    "x = np.random.randint(15, size = 10)\n",
    "y = np.random.randint(15, size = 10)\n",
    "Q5 = np.concatenate([x,y])"
   ]
  },
  {
   "cell_type": "code",
   "execution_count": 8,
   "id": "847d7b29",
   "metadata": {},
   "outputs": [],
   "source": [
    "Q6a,Q6b,Q6c,Q6d = np.split(Q5,[4,11,17])"
   ]
  },
  {
   "cell_type": "code",
   "execution_count": 9,
   "id": "f177381c",
   "metadata": {},
   "outputs": [],
   "source": [
    "Q7 = Q5.sum()"
   ]
  },
  {
   "cell_type": "code",
   "execution_count": 10,
   "id": "dc0d4e6c",
   "metadata": {},
   "outputs": [],
   "source": [
    "L = np.random.randint(48, 85, size = 50)"
   ]
  },
  {
   "cell_type": "code",
   "execution_count": 11,
   "id": "5e25a8f4",
   "metadata": {},
   "outputs": [],
   "source": [
    "Q8 = L.mean()"
   ]
  },
  {
   "cell_type": "code",
   "execution_count": 12,
   "id": "972884a3",
   "metadata": {},
   "outputs": [],
   "source": [
    "name = ['Jonathan Loaisiga', 'Nick Saban', 'Katie Ladecky']\n",
    "occupation = ['Baseball player', 'Football coach', 'Swimmer']\n",
    "salary = [595800.00, 8619934.23, 100000.00]\n",
    "\n",
    "Q9 = np.zeros(3, dtype={'names':('name', 'occupation', 'salary'),\n",
    "                       'formats':('U20', 'U20', 'f8')})"
   ]
  },
  {
   "cell_type": "code",
   "execution_count": 13,
   "id": "24fa1e53",
   "metadata": {},
   "outputs": [],
   "source": [
    "Q9['name'] = name\n",
    "Q9['occupation'] = occupation\n",
    "Q9['salary'] = salary"
   ]
  }
 ],
 "metadata": {
  "kernelspec": {
   "display_name": "Python 3.9.12 ('base')",
   "language": "python",
   "name": "python3"
  },
  "language_info": {
   "codemirror_mode": {
    "name": "ipython",
    "version": 3
   },
   "file_extension": ".py",
   "mimetype": "text/x-python",
   "name": "python",
   "nbconvert_exporter": "python",
   "pygments_lexer": "ipython3",
   "version": "3.9.12"
  },
  "vscode": {
   "interpreter": {
    "hash": "ba44645dc5d2234ff52f5ccad207463005e30c5273b58be6b66674f631fb4776"
   }
  }
 },
 "nbformat": 4,
 "nbformat_minor": 5
}
