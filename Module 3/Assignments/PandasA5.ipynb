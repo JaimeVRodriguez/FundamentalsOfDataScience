{
 "cells": [
  {
   "cell_type": "code",
   "execution_count": 441,
   "metadata": {},
   "outputs": [],
   "source": [
    "import numpy as np\n",
    "import pandas as pd"
   ]
  },
  {
   "cell_type": "code",
   "execution_count": 442,
   "metadata": {},
   "outputs": [],
   "source": [
    "np.random.seed(12)"
   ]
  },
  {
   "cell_type": "code",
   "execution_count": 443,
   "metadata": {},
   "outputs": [],
   "source": [
    "words = [('One', 1), ('One', 2),\n",
    "        ('Two', 1), ('Two', 2),\n",
    "        ('Three', 1), ('Three', 2)]\n",
    "numbers = [11,111,22,222,33,333]\n",
    "\n",
    "Q1 = pd.Series(numbers, index=words)\n",
    "words = pd.MultiIndex.from_tuples(words, names=['Words','Numbers'])\n",
    "Q1 = Q1.reindex(words)"
   ]
  },
  {
   "cell_type": "code",
   "execution_count": 444,
   "metadata": {},
   "outputs": [],
   "source": [
    "Q2 = Q1['Three']"
   ]
  },
  {
   "cell_type": "code",
   "execution_count": 445,
   "metadata": {},
   "outputs": [],
   "source": [
    "Q3 = Q1[:, 2]"
   ]
  },
  {
   "cell_type": "code",
   "execution_count": 446,
   "metadata": {},
   "outputs": [],
   "source": [
    "Q4 = pd.Series(numbers, index=words)\n",
    "Q4 = Q4.unstack()"
   ]
  },
  {
   "cell_type": "code",
   "execution_count": 447,
   "metadata": {},
   "outputs": [],
   "source": [
    "Q5 = Q4.sum()"
   ]
  },
  {
   "cell_type": "code",
   "execution_count": 448,
   "metadata": {},
   "outputs": [],
   "source": [
    "\n",
    "Q6 = pd.DataFrame(np.random.randint(9, size=(6,2)),\n",
    "                    index=[[1,1,2,2,3,3], ['a','b','a','b','a','b']],\n",
    "                    columns=['A', 'B'])"
   ]
  },
  {
   "cell_type": "code",
   "execution_count": 449,
   "metadata": {},
   "outputs": [],
   "source": [
    "index = pd.MultiIndex.from_product([['ONE','TWO','THREE'], ['one', 'two']],\n",
    "                                    names=['NUMBER', 'number'])\n",
    "columns = pd.MultiIndex.from_product([['A', 'B'], ['a','b','c','d']],\n",
    "                                    names=['LETTER','letter'])\n",
    "data = np.random.randint(0,20, size=(6,8))\n",
    "\n",
    "Q7 = pd.DataFrame(data, index=index, columns=columns)"
   ]
  },
  {
   "cell_type": "code",
   "execution_count": 450,
   "metadata": {},
   "outputs": [],
   "source": [
    "Q8 = Q7['B']"
   ]
  },
  {
   "cell_type": "code",
   "execution_count": 451,
   "metadata": {},
   "outputs": [],
   "source": [
    "ser1 = pd.Series([7,8,9,10],\n",
    "                index=['ONE', 'TWO', 'THREE', 'FOUR'])\n",
    "ser2 = pd.Series([11,12,13,14],\n",
    "                index=['THREE','FOUR','FIVE','SIX'])\n",
    "\n",
    "Q9 = pd.concat([ser1,ser2], axis=1)"
   ]
  },
  {
   "cell_type": "code",
   "execution_count": 452,
   "metadata": {},
   "outputs": [],
   "source": [
    "Q10 = pd.concat([ser1,ser2])"
   ]
  },
  {
   "cell_type": "code",
   "execution_count": 453,
   "metadata": {},
   "outputs": [],
   "source": [
    "Q11 = pd.concat([ser1,ser2], keys=['A','B'])"
   ]
  },
  {
   "cell_type": "code",
   "execution_count": 454,
   "metadata": {},
   "outputs": [],
   "source": [
    "ser3 = pd.Series([15,16],\n",
    "                index=['SEVEN','EIGHT'])"
   ]
  },
  {
   "cell_type": "code",
   "execution_count": 457,
   "metadata": {},
   "outputs": [
    {
     "name": "stderr",
     "output_type": "stream",
     "text": [
      "/var/folders/fw/xj5db6_x2rvfcbbxbtxtw2w00000gn/T/ipykernel_96916/3373101826.py:4: FutureWarning: Passing non boolean values for sort is deprecated and will error in a future version!\n",
      "  df1 = pd.concat([ser1,ser2], keys=['A','B'], axis=1, sort=rand)\n"
     ]
    }
   ],
   "source": [
    "from scipy import rand\n",
    "\n",
    "\n",
    "df1 = pd.concat([ser1,ser2], keys=['A','B'], axis=1, sort=rand)\n",
    "df2 = pd.DataFrame({'B': ser3})\n",
    "\n",
    "frames = [df1,df2]\n",
    "Q12 = pd.concat(frames, sort=False)"
   ]
  }
 ],
 "metadata": {
  "kernelspec": {
   "display_name": "Python 3.9.12 ('base')",
   "language": "python",
   "name": "python3"
  },
  "language_info": {
   "codemirror_mode": {
    "name": "ipython",
    "version": 3
   },
   "file_extension": ".py",
   "mimetype": "text/x-python",
   "name": "python",
   "nbconvert_exporter": "python",
   "pygments_lexer": "ipython3",
   "version": "3.9.12"
  },
  "orig_nbformat": 4,
  "vscode": {
   "interpreter": {
    "hash": "ba44645dc5d2234ff52f5ccad207463005e30c5273b58be6b66674f631fb4776"
   }
  }
 },
 "nbformat": 4,
 "nbformat_minor": 2
}
