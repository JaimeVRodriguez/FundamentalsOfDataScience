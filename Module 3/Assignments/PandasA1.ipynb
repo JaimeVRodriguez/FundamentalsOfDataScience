{
 "cells": [
  {
   "cell_type": "code",
   "execution_count": 107,
   "metadata": {},
   "outputs": [],
   "source": [
    "import numpy as np\n",
    "import pandas as pd"
   ]
  },
  {
   "cell_type": "code",
   "execution_count": 108,
   "metadata": {},
   "outputs": [],
   "source": [
    "Q1 = pd.Series(['Stina Calista','Fran Hendrix','Cyril Isak', 'Danilo Norina'],\n",
    "                index=[5281224,4223241,4233342,5012332])"
   ]
  },
  {
   "cell_type": "code",
   "execution_count": 109,
   "metadata": {},
   "outputs": [],
   "source": [
    "Q2 = {\n",
    "    'Roger Clemens': 133.7,\n",
    "    'Cy Young': 131.5,\n",
    "    'Walter Johnson': 117.1,\n",
    "    'Greg Maddux': 116.7,\n",
    "    'Randy Johnson': 110.4\n",
    "}"
   ]
  },
  {
   "cell_type": "code",
   "execution_count": 110,
   "metadata": {},
   "outputs": [],
   "source": [
    "Q3 = pd.Series(Q2)"
   ]
  },
  {
   "cell_type": "code",
   "execution_count": 111,
   "metadata": {},
   "outputs": [],
   "source": [
    "occupation = pd.Series(['Accountant','Data scientist','Manager','Security staff'],\n",
    "                        index=[5281224,4223241,4233342,5012332])"
   ]
  },
  {
   "cell_type": "code",
   "execution_count": 112,
   "metadata": {},
   "outputs": [],
   "source": [
    "Q4 = pd.DataFrame({'Name': Q1,\n",
    "        'Occupation': occupation})"
   ]
  },
  {
   "cell_type": "code",
   "execution_count": 113,
   "metadata": {},
   "outputs": [],
   "source": [
    "pop_dict = {\n",
    "    'China': 1411778724,\n",
    "    'India': 1378331486,\n",
    "    'United States': 331865271,\n",
    "    'Indonesia': 271350000,\n",
    "    'Pakistan': 225200000\n",
    "}\n",
    "\n",
    "area_dict = {\n",
    "    'Russia': 17098246,\n",
    "    'Canada': 9984670,\n",
    "    'China': 9596961,\n",
    "    'United States': 9525067,\n",
    "    'Brazil': 8515767\n",
    "}\n",
    "\n",
    "population = pd.Series(pop_dict)\n",
    "area = pd.Series(area_dict)"
   ]
  },
  {
   "cell_type": "code",
   "execution_count": 114,
   "metadata": {},
   "outputs": [],
   "source": [
    "Q5 = pd.DataFrame({'Population': population,\n",
    "                    'Area': area_dict},\n",
    "                    index=['China', 'India', 'United States', 'Indonesia', 'Pakistan', 'Russia', 'Canada', 'Brazil'])"
   ]
  },
  {
   "cell_type": "code",
   "execution_count": 115,
   "metadata": {},
   "outputs": [],
   "source": [
    "Q6 = Q5.loc[['China','United States']]"
   ]
  },
  {
   "cell_type": "code",
   "execution_count": 116,
   "metadata": {},
   "outputs": [],
   "source": [
    "Q7 = Q5.loc[Q5['Population'] > 270000000]"
   ]
  },
  {
   "cell_type": "code",
   "execution_count": 117,
   "metadata": {},
   "outputs": [],
   "source": [
    "Q8 = Q5.loc[Q5['Area'] > 9600000]"
   ]
  }
 ],
 "metadata": {
  "kernelspec": {
   "display_name": "Python 3.9.12 ('base')",
   "language": "python",
   "name": "python3"
  },
  "language_info": {
   "codemirror_mode": {
    "name": "ipython",
    "version": 3
   },
   "file_extension": ".py",
   "mimetype": "text/x-python",
   "name": "python",
   "nbconvert_exporter": "python",
   "pygments_lexer": "ipython3",
   "version": "3.9.12"
  },
  "orig_nbformat": 4,
  "vscode": {
   "interpreter": {
    "hash": "ba44645dc5d2234ff52f5ccad207463005e30c5273b58be6b66674f631fb4776"
   }
  }
 },
 "nbformat": 4,
 "nbformat_minor": 2
}
