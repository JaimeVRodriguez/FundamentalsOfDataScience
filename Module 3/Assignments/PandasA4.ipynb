{
 "cells": [
  {
   "cell_type": "code",
   "execution_count": 144,
   "metadata": {},
   "outputs": [],
   "source": [
    "import numpy as np\n",
    "import pandas as pd"
   ]
  },
  {
   "cell_type": "code",
   "execution_count": 145,
   "metadata": {},
   "outputs": [],
   "source": [
    "Q1 = np.array([2,np.nan,6,7,3,2])"
   ]
  },
  {
   "cell_type": "code",
   "execution_count": 146,
   "metadata": {},
   "outputs": [],
   "source": [
    "Q2 = np.nansum(Q1)"
   ]
  },
  {
   "cell_type": "code",
   "execution_count": 147,
   "metadata": {},
   "outputs": [],
   "source": [
    "Q3 = pd.Series([4,5,2,np.nan,1,np.nan])"
   ]
  },
  {
   "cell_type": "code",
   "execution_count": 148,
   "metadata": {},
   "outputs": [],
   "source": [
    "Q4 = Q3.isnull()"
   ]
  },
  {
   "cell_type": "code",
   "execution_count": 149,
   "metadata": {},
   "outputs": [],
   "source": [
    "Q5 = pd.Series([4,5,2,np.nan,1,np.nan])\n",
    "Q5 = Q5[Q5.notnull()]"
   ]
  },
  {
   "cell_type": "code",
   "execution_count": 150,
   "metadata": {},
   "outputs": [],
   "source": [
    "Q6 = pd.Series([4,5,2,np.nan,1,np.nan])\n",
    "Q6 = Q6.fillna(100)"
   ]
  },
  {
   "cell_type": "code",
   "execution_count": 151,
   "metadata": {},
   "outputs": [],
   "source": [
    "ser1 = pd.Series([4,5,6])\n",
    "ser2 = pd.Series([5,6,np.nan])\n",
    "ser3 = pd.Series([2,np.nan,7])\n",
    "ser4 = pd.Series([9,3,np.nan])\n",
    "ser5 = pd.Series([1,np.nan,4])\n",
    "ser6 = pd.Series([8,2,3])\n",
    "\n",
    "Q7 = pd.concat([ser1,ser2,ser3,ser4,ser5,ser6], axis=1)"
   ]
  },
  {
   "cell_type": "code",
   "execution_count": 152,
   "metadata": {},
   "outputs": [],
   "source": [
    "Q7 = Q7.fillna(100)"
   ]
  },
  {
   "cell_type": "code",
   "execution_count": 158,
   "metadata": {},
   "outputs": [
    {
     "data": {
      "text/plain": [
       "0    4.0\n",
       "1    5.0\n",
       "2    2.0\n",
       "4    1.0\n",
       "dtype: float64"
      ]
     },
     "execution_count": 158,
     "metadata": {},
     "output_type": "execute_result"
    }
   ],
   "source": [
    "Q8 = pd.Series([4,5,2,np.nan,1,np.nan])\n",
    "Q8 = Q8.dropna()"
   ]
  },
  {
   "cell_type": "code",
   "execution_count": 154,
   "metadata": {},
   "outputs": [],
   "source": [
    "Q9 = pd.concat([ser1,ser2,ser3,ser4,ser5,ser6], axis=1)\n",
    "Q9 = Q9.dropna(axis='columns')"
   ]
  },
  {
   "cell_type": "code",
   "execution_count": 155,
   "metadata": {},
   "outputs": [],
   "source": [
    "Q10 = pd.concat([ser1,ser2,ser3,ser4,ser5,ser6], axis=1)\n",
    "Q10 = Q10.dropna()"
   ]
  },
  {
   "cell_type": "code",
   "execution_count": 156,
   "metadata": {},
   "outputs": [],
   "source": [
    "Q11 = pd.concat([ser1,ser2,ser3,ser4,ser5,ser6], axis=1)\n",
    "Q11 = Q11.dropna(thresh=5)"
   ]
  },
  {
   "cell_type": "code",
   "execution_count": 159,
   "metadata": {},
   "outputs": [],
   "source": [
    "Q12 = pd.concat([ser1,ser2,ser3,ser4,ser5,ser6], axis=1)\n",
    "ser7 = [np.nan,np.nan,np.nan]\n",
    "Q12['6'] = ser7"
   ]
  },
  {
   "cell_type": "code",
   "execution_count": null,
   "metadata": {},
   "outputs": [],
   "source": []
  }
 ],
 "metadata": {
  "kernelspec": {
   "display_name": "Python 3.9.12 ('base')",
   "language": "python",
   "name": "python3"
  },
  "language_info": {
   "codemirror_mode": {
    "name": "ipython",
    "version": 3
   },
   "file_extension": ".py",
   "mimetype": "text/x-python",
   "name": "python",
   "nbconvert_exporter": "python",
   "pygments_lexer": "ipython3",
   "version": "3.9.12"
  },
  "orig_nbformat": 4,
  "vscode": {
   "interpreter": {
    "hash": "ba44645dc5d2234ff52f5ccad207463005e30c5273b58be6b66674f631fb4776"
   }
  }
 },
 "nbformat": 4,
 "nbformat_minor": 2
}
